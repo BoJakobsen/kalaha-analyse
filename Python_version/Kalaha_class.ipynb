{
 "cells": [
  {
   "cell_type": "code",
   "execution_count": 2,
   "metadata": {},
   "outputs": [],
   "source": [
    "import numpy as np\n",
    "import pandas as pd"
   ]
  },
  {
   "cell_type": "code",
   "execution_count": 54,
   "metadata": {},
   "outputs": [],
   "source": [
    "# define a class for the Kalah game board\n",
    "class Kalah:\n",
    "    \"\"\"Kalah class\"\"\"\n",
    "    def __init__(self):\n",
    "        self.pits=[6, 6, 6, 6, 6, 6, 0,  6, 6, 6, 6, 6, 6, 0] # define the start config\n",
    "        self.again = False # indicates if player one are allowed to make anoter move\n",
    "\n",
    "    def advance_player_one(self, startpit, debug=False):\n",
    "        \"\"\"Advance the board for Player on, starting in given pit\"\"\"\n",
    "\n",
    "        hand = self.pits[startpit] # number of beads in hand\n",
    "        self.pits[startpit] = 0    # update the starte pit     \n",
    "        pit = startpit # holds the current pit in the move sequency\n",
    "\n",
    "        self.again = False # reset the again flag \n",
    "\n",
    "        for kk in range(hand): # loop over the number of beads \n",
    "            pit=pit+1 #advance to next pit\n",
    "\n",
    "            if pit==13: # do not put in player twos and start back in first pit\n",
    "                pit=0                      \n",
    "                self.pits[pit] = self.pits[pit]+1  #add a bead\n",
    "\n",
    "            # Test different ending senaties when the hand is empty  \n",
    "\n",
    "            if pit == 6 : # we ended in our own home \n",
    "                if debug:\n",
    "                    print('Ended in home, Another go')\n",
    "                    self.again = True                \n",
    "            elif self.pits[pit]>1 and (pit is not 6):  # we ended in one which has beads, and not in our home\n",
    "                if debug:\n",
    "                    print('Take pit ' + str(pit) + ', and sead again')\n",
    "                self.advance_player_one(pit)  # recursively continue            \n",
    "            elif self.pits[pit]==1 and  pit<6: # we ended in out own land in an empty pit\n",
    "                if debug:\n",
    "                    print('End Take accros, Pit: ' + str(pit))\n",
    "                nover=12-pit # calculate the pit acros\n",
    "                self.pits[6]=self.pits[7]+self.pits[pit]+self.pits[nover]\n",
    "                self.pits[pit]=0\n",
    "                self.pits[nover]=0            \n",
    "            else:\n",
    "                if debug: \n",
    "                    print('Dead in pit' + str(pit)) #last and final posibility \n",
    "\n",
    "            if debug:\n",
    "                print('New pits: ' + str(self.pits))"
   ]
  },
  {
   "cell_type": "code",
   "execution_count": 55,
   "metadata": {},
   "outputs": [
    {
     "name": "stdout",
     "output_type": "stream",
     "text": [
      "Take pit 1, and sead again\n",
      "New pits: [0, 0, 0, 0, 0, 0, 1, 0, 0, 0, 0, 0, 0, 0]\n",
      "Dead in pit2\n",
      "New pits: [0, 0, 0, 0, 0, 0, 1, 0, 0, 0, 0, 0, 0, 0]\n",
      "Dead in pit3\n",
      "New pits: [0, 0, 0, 0, 0, 0, 1, 0, 0, 0, 0, 0, 0, 0]\n",
      "Dead in pit4\n",
      "New pits: [0, 0, 0, 0, 0, 0, 1, 0, 0, 0, 0, 0, 0, 0]\n",
      "Dead in pit5\n",
      "New pits: [0, 0, 0, 0, 0, 0, 1, 0, 0, 0, 0, 0, 0, 0]\n",
      "Ended in home, Another go\n",
      "New pits: [0, 0, 0, 0, 0, 0, 1, 0, 0, 0, 0, 0, 0, 0]\n"
     ]
    }
   ],
   "source": [
    "s = Kalah()\n",
    "deb=True\n",
    "s.advance_player_one(0,debug=deb)\n",
    "s.advance_player_one(1,debug=deb)\n",
    "s.advance_player_one(1,debug=deb)\n",
    "s.advance_player_one(0,debug=deb)\n",
    "\n",
    "\n"
   ]
  },
  {
   "cell_type": "code",
   "execution_count": 48,
   "metadata": {},
   "outputs": [
    {
     "name": "stdout",
     "output_type": "stream",
     "text": [
      "[0, 7, 7, 7, 7, 7, 1, 6, 6, 6, 6, 6, 6, 0]\n"
     ]
    }
   ],
   "source": []
  },
  {
   "cell_type": "code",
   "execution_count": 45,
   "metadata": {},
   "outputs": [
    {
     "name": "stdout",
     "output_type": "stream",
     "text": [
      "0\n",
      "1\n",
      "2\n",
      "3\n",
      "4\n",
      "5\n"
     ]
    }
   ],
   "source": [
    "def somefkt():\n",
    "    \n",
    "    for kk in range(6):\n",
    "        print(kk)\n",
    "        if kk == 310:\n",
    "            return\n",
    "    \n",
    "somefkt()\n"
   ]
  },
  {
   "cell_type": "code",
   "execution_count": null,
   "metadata": {},
   "outputs": [],
   "source": []
  }
 ],
 "metadata": {
  "kernelspec": {
   "display_name": "Python 3",
   "language": "python",
   "name": "python3"
  },
  "language_info": {
   "codemirror_mode": {
    "name": "ipython",
    "version": 3
   },
   "file_extension": ".py",
   "mimetype": "text/x-python",
   "name": "python",
   "nbconvert_exporter": "python",
   "pygments_lexer": "ipython3",
   "version": "3.7.6"
  }
 },
 "nbformat": 4,
 "nbformat_minor": 4
}
