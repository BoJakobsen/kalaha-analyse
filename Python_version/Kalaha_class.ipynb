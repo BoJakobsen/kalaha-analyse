{
 "cells": [
  {
   "cell_type": "code",
   "execution_count": 1,
   "metadata": {},
   "outputs": [],
   "source": [
    "import numpy as np\n",
    "import pandas as pd"
   ]
  },
  {
   "cell_type": "code",
   "execution_count": 5,
   "metadata": {},
   "outputs": [],
   "source": [
    "# define a class for the Kalah game board\n",
    "# For increaded readability split into multiple cells\n",
    "class Kalah:\n",
    "    \"\"\"Kalah class\"\"\"\n",
    "    def __init__(self):\n",
    "        self.pits=[6, 6, 6, 6, 6, 6, 0,  6, 6, 6, 6, 6, 6, 0] # define the start config\n",
    "        self.again = False # indicates if player one are allowed to make anoter move\n"
   ]
  },
  {
   "cell_type": "code",
   "execution_count": 6,
   "metadata": {},
   "outputs": [],
   "source": [
    "# Add method\n",
    "class Kalah(Kalah):\n",
    "    def advance_player_one(self, startpit, debug=False):\n",
    "        \"\"\"\n",
    "            Advance the board for Player on, starting in given pit\n",
    "            Handles multiple end senaries. \n",
    "            self.again : indicates if player one is allows to make another move\n",
    "            debug      : If true, give info on state    \n",
    "        \"\"\"\n",
    "\n",
    "        hand = self.pits[startpit] # number of beads in hand\n",
    "        self.pits[startpit] = 0    # update the starte pit     \n",
    "        pit = startpit # holds the current pit in the move sequency\n",
    "\n",
    "        self.again = False # reset the again flag \n",
    "\n",
    "        for kk in range(hand): # loop over the number of beads \n",
    "            pit=pit+1 #advance to next pit\n",
    "\n",
    "            if pit==13: # do not put in player twos and start back in first pit\n",
    "                pit=0                      \n",
    "                self.pits[pit] = self.pits[pit]+1  #add a bead\n",
    "\n",
    "            # Test different ending senaties when the hand is empty  \n",
    "\n",
    "            if pit == 6 : # we ended in our own home \n",
    "                if debug:\n",
    "                    print('Ended in home, Another go')\n",
    "                    self.again = True                \n",
    "            elif self.pits[pit]>1 and (pit is not 6):  # we ended in one which has beads, and not in our home\n",
    "                if debug:\n",
    "                    print('Take pit ' + str(pit) + ', and sead again')\n",
    "                self.advance_player_one(pit)  # recursively continue            \n",
    "            elif self.pits[pit]==1 and  pit<6: # we ended in out own land in an empty pit\n",
    "                if debug:\n",
    "                    print('End Take accros, Pit: ' + str(pit))\n",
    "                nover=12-pit # calculate the pit acros\n",
    "                self.pits[6]=self.pits[7]+self.pits[pit]+self.pits[nover]\n",
    "                self.pits[pit]=0\n",
    "                self.pits[nover]=0            \n",
    "            else:\n",
    "                if debug: \n",
    "                    print('Dead in pit' + str(pit)) #last and final posibility \n",
    "\n",
    "            if debug:\n",
    "                print('New pits: ' + str(self.pits))"
   ]
  },
  {
   "cell_type": "code",
   "execution_count": 7,
   "metadata": {},
   "outputs": [
    {
     "name": "stdout",
     "output_type": "stream",
     "text": [
      "Take pit 1, and sead again\n",
      "New pits: [0, 0, 0, 0, 0, 0, 1, 0, 0, 0, 0, 0, 0, 0]\n",
      "Dead in pit2\n",
      "New pits: [0, 0, 0, 0, 0, 0, 1, 0, 0, 0, 0, 0, 0, 0]\n",
      "Dead in pit3\n",
      "New pits: [0, 0, 0, 0, 0, 0, 1, 0, 0, 0, 0, 0, 0, 0]\n",
      "Dead in pit4\n",
      "New pits: [0, 0, 0, 0, 0, 0, 1, 0, 0, 0, 0, 0, 0, 0]\n",
      "Dead in pit5\n",
      "New pits: [0, 0, 0, 0, 0, 0, 1, 0, 0, 0, 0, 0, 0, 0]\n",
      "Ended in home, Another go\n",
      "New pits: [0, 0, 0, 0, 0, 0, 1, 0, 0, 0, 0, 0, 0, 0]\n"
     ]
    }
   ],
   "source": [
    "# run test if this notebook is run directly, if included in other notebood do not run\n",
    "if __name__ == '__main__' and '__file__' not in globals():\n",
    "    \n",
    "    s = Kalah()\n",
    "    deb=True\n",
    "    s.advance_player_one(0,debug=deb)\n",
    "    s.advance_player_one(1,debug=deb)\n",
    "    s.advance_player_one(1,debug=deb)\n",
    "    s.advance_player_one(0,debug=deb)\n"
   ]
  },
  {
   "cell_type": "code",
   "execution_count": 33,
   "metadata": {},
   "outputs": [],
   "source": [
    "class Results:\n",
    "    \n",
    "    def __init__(self):\n",
    "        self.N=0 # currently added number\n",
    "        #self.dat=pd.DataFrame(columns=['NHome', 'Length', 'Seq'], data=np.zeros(shape=(5000,3)))\n",
    "        #Preallocate doesn't work with seq\n",
    "        self.dat=pd.DataFrame(columns=['NHome', 'Length', 'Seq'])\n",
    "  \n",
    "    def add_seq(self, NHome, Seq):        \n",
    "        ser=pd.Series({'NHome': NHome , 'Length':  len(Seq), 'Seq': Seq})\n",
    "        #print(ser)\n",
    "        #self.dat.loc[self.N]=ser\n",
    "        #self.N=self.N+1\n",
    "        self.dat=self.dat.append(ser, ignore_index=True)\n",
    "    def save_dat(self, filename):\n",
    "        self.dat.to_pickle(filename) # looks good\n",
    "        \n",
    "        "
   ]
  },
  {
   "cell_type": "code",
   "execution_count": 34,
   "metadata": {},
   "outputs": [],
   "source": [
    "res=Results()\n"
   ]
  },
  {
   "cell_type": "code",
   "execution_count": 35,
   "metadata": {},
   "outputs": [],
   "source": [
    "#res.add_seq(1, 2, [3, 4, 5])\n",
    "Seq=[1, 2,3, 3, 5]\n",
    "#ser=pd.Series({'NHome': 3 , 'Length':  4, 'Seq': Seq})\n",
    "\n",
    "res.add_seq(3 , Seq)\n",
    "\n"
   ]
  },
  {
   "cell_type": "code",
   "execution_count": 36,
   "metadata": {},
   "outputs": [
    {
     "data": {
      "text/html": [
       "<div>\n",
       "<style scoped>\n",
       "    .dataframe tbody tr th:only-of-type {\n",
       "        vertical-align: middle;\n",
       "    }\n",
       "\n",
       "    .dataframe tbody tr th {\n",
       "        vertical-align: top;\n",
       "    }\n",
       "\n",
       "    .dataframe thead th {\n",
       "        text-align: right;\n",
       "    }\n",
       "</style>\n",
       "<table border=\"1\" class=\"dataframe\">\n",
       "  <thead>\n",
       "    <tr style=\"text-align: right;\">\n",
       "      <th></th>\n",
       "      <th>NHome</th>\n",
       "      <th>Length</th>\n",
       "      <th>Seq</th>\n",
       "    </tr>\n",
       "  </thead>\n",
       "  <tbody>\n",
       "    <tr>\n",
       "      <th>0</th>\n",
       "      <td>3</td>\n",
       "      <td>5</td>\n",
       "      <td>[1, 2, 3, 3, 5]</td>\n",
       "    </tr>\n",
       "  </tbody>\n",
       "</table>\n",
       "</div>"
      ],
      "text/plain": [
       "  NHome Length              Seq\n",
       "0     3      5  [1, 2, 3, 3, 5]"
      ]
     },
     "execution_count": 36,
     "metadata": {},
     "output_type": "execute_result"
    }
   ],
   "source": [
    "res.dat\n"
   ]
  },
  {
   "cell_type": "code",
   "execution_count": 37,
   "metadata": {},
   "outputs": [],
   "source": [
    "# save in some format, this should be fast\n",
    "# requires \n",
    "#res.dat.to_feather('test.ftr') #requires pyarrow, some error in conda  \n",
    "#res.dat.to_hdf('test.h5',key='dat') #slow large files\n",
    "#res.dat.to_pickle('test.pkl') # looks good\n",
    "res.save_dat('test2.pkl')"
   ]
  },
  {
   "cell_type": "code",
   "execution_count": 38,
   "metadata": {},
   "outputs": [],
   "source": [
    "dat2=pd.read_pickle('test2.pkl')"
   ]
  },
  {
   "cell_type": "code",
   "execution_count": 39,
   "metadata": {},
   "outputs": [
    {
     "data": {
      "text/html": [
       "<div>\n",
       "<style scoped>\n",
       "    .dataframe tbody tr th:only-of-type {\n",
       "        vertical-align: middle;\n",
       "    }\n",
       "\n",
       "    .dataframe tbody tr th {\n",
       "        vertical-align: top;\n",
       "    }\n",
       "\n",
       "    .dataframe thead th {\n",
       "        text-align: right;\n",
       "    }\n",
       "</style>\n",
       "<table border=\"1\" class=\"dataframe\">\n",
       "  <thead>\n",
       "    <tr style=\"text-align: right;\">\n",
       "      <th></th>\n",
       "      <th>NHome</th>\n",
       "      <th>Length</th>\n",
       "      <th>Seq</th>\n",
       "    </tr>\n",
       "  </thead>\n",
       "  <tbody>\n",
       "    <tr>\n",
       "      <th>0</th>\n",
       "      <td>3</td>\n",
       "      <td>5</td>\n",
       "      <td>[1, 2, 3, 3, 5]</td>\n",
       "    </tr>\n",
       "  </tbody>\n",
       "</table>\n",
       "</div>"
      ],
      "text/plain": [
       "  NHome Length              Seq\n",
       "0     3      5  [1, 2, 3, 3, 5]"
      ]
     },
     "execution_count": 39,
     "metadata": {},
     "output_type": "execute_result"
    }
   ],
   "source": [
    "dat2"
   ]
  },
  {
   "cell_type": "code",
   "execution_count": null,
   "metadata": {},
   "outputs": [],
   "source": []
  }
 ],
 "metadata": {
  "kernelspec": {
   "display_name": "Python 3",
   "language": "python",
   "name": "python3"
  },
  "language_info": {
   "codemirror_mode": {
    "name": "ipython",
    "version": 3
   },
   "file_extension": ".py",
   "mimetype": "text/x-python",
   "name": "python",
   "nbconvert_exporter": "python",
   "pygments_lexer": "ipython3",
   "version": "3.7.6"
  }
 },
 "nbformat": 4,
 "nbformat_minor": 4
}
